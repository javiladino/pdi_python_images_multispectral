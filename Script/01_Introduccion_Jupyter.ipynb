{
 "cells": [
  {
   "cell_type": "markdown",
   "metadata": {},
   "source": [
    "# Introducción al uso del Jupyter Notebook"
   ]
  },
  {
   "cell_type": "markdown",
   "metadata": {},
   "source": [
    "El _**Jupyter Notebook**_ (*Cuaderno Jupyter*) <img src=\"Imagenes/logo_jupyter.svg\" width=\"40\" heigth=\"20\"> es un Software libre, estándares abiertos y servicios web para computación interactiva en todos los lenguajes de programación"
   ]
  },
  {
   "cell_type": "markdown",
   "metadata": {},
   "source": [
    "<img src=\"Imagenes/logo_jupyter1.jpg\" width=\"400\" heigth=\"150\">"
   ]
  },
  {
   "cell_type": "markdown",
   "metadata": {},
   "source": [
    "_**JupyterLab**_ es el último entorno de desarrollo interactivo basado en la web para cuadernos, código y datos. Su interfaz flexible permite a los usuarios configurar y organizar flujos de trabajo en ciencia de datos, computación científica, SIG, Teledetección, etc. "
   ]
  },
  {
   "cell_type": "markdown",
   "metadata": {},
   "source": [
    "<img src=\"Imagenes/labpreview.webp\" width=\"500\" heigth=\"200\">"
   ]
  },
  {
   "cell_type": "markdown",
   "metadata": {},
   "source": [
    "Hay varias formas distintas de utilizar el Jupyter Notebook. Hay servicios online como Google Colab (https://colab.research.google.com) que permiten su uso remoto, pero nosotros vamos a usarlo ejecutándolo localmente. En ambos casos se accede a través de un navegador. Para ello, tras ejecutar el programa (que puede instalarse en Linux, Windows o MacOS) se cargará un servidor con el cual nos podremos comunicar accediendo a la dirección http://localhost:8888 y Cada notebook es un archivo con extensión *.ipynb*."
   ]
  },
  {
   "cell_type": "markdown",
   "metadata": {},
   "source": [
    "<img src=\"Imagenes/colab_lg.png\" width=\"200\" heigth=\"100\" border=\"1\">"
   ]
  },
  {
   "cell_type": "markdown",
   "metadata": {},
   "source": [
    "### Navegador\n",
    "\n",
    "La primera pantalla a la que se accede es un navegador de archivos que muestra el directorio de ejecución del programa. En la parte superior de la siguiente imagen se puede ver la ruta hacia el directorio actual. Aquí se pueden crear carpetas y nuevos *notebooks*, ver cuáles están en ejecución, mover archivos a otras ubicaciones, renombrarlos, etc.\n",
    "\n",
    "![Navegador](Imagenes/Navegador.png)"
   ]
  },
  {
   "cell_type": "markdown",
   "metadata": {},
   "source": [
    "En la parte superior pueden ver el menú y una barra con botones de acceso rápido. Debajo aparece la primera *celda vacía*, que empieza con el texto **In [ ]:**. \n",
    "\n",
    "Los notebooks funcionan con celdas. Las celdas pueden ser del tipo **Code** para ingresar código ejecutable de Python, o **Markdown**, que sirven para ingresar texto enriquecido.\n",
    "\n",
    "Las celdas de tipo **Markdown** no muestran la leyenda **In [ ]:**. Se puede cambiar el modo de la celda activa con el menú desplegable de la barra de botones de acceso rápido, que en la imagen anterior muestra el texto *Code* (aunque esto es tedioso y es preferible utilizar un atajo de teclado, ver más adelante)."
   ]
  },
  {
   "cell_type": "markdown",
   "metadata": {},
   "source": [
    "### Celdas Code"
   ]
  },
  {
   "cell_type": "code",
   "execution_count": 4,
   "metadata": {},
   "outputs": [
    {
     "name": "stdout",
     "output_type": "stream",
     "text": [
      "[1] \"¡hola Geomatica! \"\n"
     ]
    }
   ],
   "source": [
    "# Comentario\n",
    "print(\"¡hola Geomatica! \")"
   ]
  },
  {
   "cell_type": "markdown",
   "metadata": {},
   "source": [
    "### Atajos de teclado\n",
    "\n",
    "Hay un enorme conjunto de atajos de teclado que facilitan el uso del entorno.\n",
    "\n",
    "Principales combinaciones útiles (funcionan cuando la celda está en modo **Comando**):\n",
    "\n",
    "| Teclas  | Función |\n",
    "| :---: | :---: |\n",
    "| Shift+Enter  | ejecuta la celda actual  |\n",
    "| a (de \"above\") | inserta una celda por encima de la actual |\n",
    "| b (de \"below\") | inserta una celda debajo de la celda actual |\n",
    "| dd | borra la celda actual |\n",
    "| y | convierte la celda a **Code** |\n",
    "| m | convierte la celda a **Markdown** |\n"
   ]
  },
  {
   "cell_type": "code",
   "execution_count": null,
   "metadata": {},
   "outputs": [],
   "source": []
  },
  {
   "cell_type": "markdown",
   "metadata": {},
   "source": []
  }
 ],
 "metadata": {
  "kernelspec": {
   "display_name": "Python 3 (ipykernel)",
   "language": "python",
   "name": "python3"
  },
  "language_info": {
   "codemirror_mode": {
    "name": "ipython",
    "version": 3
   },
   "file_extension": ".py",
   "mimetype": "text/x-python",
   "name": "python",
   "nbconvert_exporter": "python",
   "pygments_lexer": "ipython3",
   "version": "3.11.5"
  }
 },
 "nbformat": 4,
 "nbformat_minor": 4
}
