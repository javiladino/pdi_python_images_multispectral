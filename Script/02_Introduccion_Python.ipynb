{
 "cells": [
  {
   "cell_type": "markdown",
   "id": "49afcf09-1b2c-4624-8e51-5abf9ffb3d90",
   "metadata": {},
   "source": [
    "# Introducción Python 3"
   ]
  },
  {
   "cell_type": "markdown",
   "id": "bf01b4a9-548d-4708-ae1b-ffbcaa30f906",
   "metadata": {},
   "source": [
    "Python es un lenguaje de programación de propósito general muy poderoso y flexible, a la vez de sencillo y fácil de aprender. Es un lenguaje de alto nivel, que permite procesar fácilmente todo tipo de estructuras de datos, tanto numéricos como de texto."
   ]
  },
  {
   "cell_type": "markdown",
   "id": "53e5cb60-bc61-4b71-a701-b0a3ee91bc08",
   "metadata": {},
   "source": [
    "## Versión de python "
   ]
  },
  {
   "cell_type": "code",
   "execution_count": 1,
   "id": "f1b36988-2f00-422e-91f6-65ad611cd783",
   "metadata": {},
   "outputs": [
    {
     "name": "stdout",
     "output_type": "stream",
     "text": [
      "Python 3.11.5\n"
     ]
    }
   ],
   "source": [
    "!python --version"
   ]
  },
  {
   "cell_type": "markdown",
   "id": "65a77b88-629d-437e-8d77-c8062f76e91e",
   "metadata": {},
   "source": [
    "## Variables\n",
    "Es un nombre que se refiere a un objeto que reside en la memoria. El objeto puede ser de alguno de los tipos vistos (número o cadena de texto), o alguno de los otros tipos existentes en Python.\n",
    "\n",
    "En `Python` asignamos valores a las variables siguiendo el siguiente formato: `nombre_variable = valor`"
   ]
  },
  {
   "cell_type": "markdown",
   "id": "6556edd4-2a16-4e8b-a038-bc1bcc1f444f",
   "metadata": {},
   "source": [
    "| Tipo dato | Data type            | Example    |\n",
    "| -------------- | -------------------- | ---------- |\n",
    "| `int`          | Valor entero numero | `4`        |\n",
    "| `float`        | Valor decimal numero       | `3.1415`   |\n",
    "| `str`          | Texto caractere string    | `'Geomatica'`    |\n",
    "| `bool`         | Valor Verdadero/Falso    | `True`, `False`     |\n",
    "\n",
    "El tipo de datos se puede encontrar usando la función `type()`."
   ]
  },
  {
   "cell_type": "code",
   "execution_count": 2,
   "id": "a4a514c4-5e42-4b9e-b17e-62ab6f939842",
   "metadata": {},
   "outputs": [],
   "source": [
    "a = 5"
   ]
  },
  {
   "cell_type": "code",
   "execution_count": 3,
   "id": "f35ee5f2-509e-4d44-bc96-b0c0eac9be6c",
   "metadata": {},
   "outputs": [
    {
     "name": "stdout",
     "output_type": "stream",
     "text": [
      "Valor de la letra a: False\n"
     ]
    }
   ],
   "source": [
    "print(\"Valor de la letra a:\", a>10)"
   ]
  },
  {
   "cell_type": "code",
   "execution_count": 4,
   "id": "42997488-0f48-46b3-b6d4-98cb80a65966",
   "metadata": {},
   "outputs": [
    {
     "data": {
      "text/plain": [
       "str"
      ]
     },
     "execution_count": 4,
     "metadata": {},
     "output_type": "execute_result"
    }
   ],
   "source": [
    "type(str(a))"
   ]
  },
  {
   "cell_type": "code",
   "execution_count": 5,
   "id": "d917c03e-ecfd-43ba-999f-9dc961b73f06",
   "metadata": {},
   "outputs": [
    {
     "name": "stdout",
     "output_type": "stream",
     "text": [
      "Valor de a es: 5\n",
      "Valor de a es: 5\n"
     ]
    }
   ],
   "source": [
    "print(\"Valor de a es: \" + str(a))\n",
    "print(\"Valor de a es:\", a)"
   ]
  },
  {
   "cell_type": "code",
   "execution_count": 6,
   "id": "c0ac16f3-e4f9-4f3f-a383-dac1f1ab6826",
   "metadata": {},
   "outputs": [
    {
     "data": {
      "text/plain": [
       "int"
      ]
     },
     "execution_count": 6,
     "metadata": {},
     "output_type": "execute_result"
    }
   ],
   "source": [
    "type(a)"
   ]
  },
  {
   "cell_type": "code",
   "execution_count": 7,
   "id": "c0c58e56-6547-4e6e-ac5a-a861d09d8943",
   "metadata": {},
   "outputs": [
    {
     "name": "stdout",
     "output_type": "stream",
     "text": [
      "Valor de b es: 3.7\n",
      "Tipo de clase b: <class 'float'>\n"
     ]
    }
   ],
   "source": [
    "b = 3.7\n",
    "print(\"Valor de b es:\", b)\n",
    "print(\"Tipo de clase b:\", type(b))"
   ]
  },
  {
   "cell_type": "code",
   "execution_count": 8,
   "id": "91a8321b-7ef4-4573-bf2f-a70765452507",
   "metadata": {},
   "outputs": [
    {
     "data": {
      "text/plain": [
       "float"
      ]
     },
     "execution_count": 8,
     "metadata": {},
     "output_type": "execute_result"
    }
   ],
   "source": [
    "type(b)"
   ]
  },
  {
   "cell_type": "code",
   "execution_count": 9,
   "id": "57717e21-7fd2-4d2e-a264-a8c93537a9ee",
   "metadata": {},
   "outputs": [
    {
     "name": "stdout",
     "output_type": "stream",
     "text": [
      "El valor de c es: Geomatica\n",
      "Tipo de clase <class 'str'>\n"
     ]
    }
   ],
   "source": [
    "c = \"Geomatica\"\n",
    "print(\"El valor de c es:\", c)\n",
    "print(\"Tipo de clase\", type(c))"
   ]
  },
  {
   "cell_type": "code",
   "execution_count": 10,
   "id": "d7403230-206b-42f4-b02e-04239aade8a0",
   "metadata": {},
   "outputs": [
    {
     "data": {
      "text/plain": [
       "str"
      ]
     },
     "execution_count": 10,
     "metadata": {},
     "output_type": "execute_result"
    }
   ],
   "source": [
    "type(c)"
   ]
  },
  {
   "cell_type": "code",
   "execution_count": 11,
   "id": "6fb6a051-0bf6-4d5e-8c53-4b2db867ab5c",
   "metadata": {},
   "outputs": [
    {
     "name": "stdout",
     "output_type": "stream",
     "text": [
      "El valor de d es: True\n",
      "Tipo de clase <class 'bool'>\n"
     ]
    }
   ],
   "source": [
    "d = True\n",
    "print(\"El valor de d es:\", d)\n",
    "print(\"Tipo de clase\", type(d))"
   ]
  },
  {
   "cell_type": "code",
   "execution_count": 12,
   "id": "123a3191-c05c-47ec-8d55-3ea332ff9f0f",
   "metadata": {},
   "outputs": [
    {
     "data": {
      "text/plain": [
       "bool"
      ]
     },
     "execution_count": 12,
     "metadata": {},
     "output_type": "execute_result"
    }
   ],
   "source": [
    "type(d)"
   ]
  },
  {
   "cell_type": "markdown",
   "id": "2b178373-3dde-421b-8065-f5cb62f8b4d0",
   "metadata": {},
   "source": [
    "### Restricciones sobre los nombres de las variables\n",
    "\n",
    "- No pueden empezar ni contener carácteres especiales !, @, #, $, %, etc.\n",
    "- No pueden empezar por números\n",
    "- No pueden ser llamadas igual que las palabras claves reservadas en Python\n",
    "- No pueden contener espacios\n",
    "\n",
    "**Observación.** Conviene que al darle nombre a una variable, éste tenga sentido en cuanto al dato que guarde, para que así resulte mucho más fácil la comprensión por parte de quien lea el código."
   ]
  },
  {
   "cell_type": "code",
   "execution_count": 13,
   "id": "c2dbbbc4-707d-4578-b0b0-e780efc044e8",
   "metadata": {},
   "outputs": [],
   "source": [
    "Variable1 = 50"
   ]
  },
  {
   "cell_type": "markdown",
   "id": "1c71b5c9-96bf-4a3a-bbe7-2a4e08847500",
   "metadata": {},
   "source": [
    "### Palabras clave en `Python`\n",
    "\n",
    "Las palabras clave en `Python` Para obtener una lista de todas"
   ]
  },
  {
   "cell_type": "code",
   "execution_count": 14,
   "id": "ec43b452-5eb6-4a2b-bb4e-9cb674eb4553",
   "metadata": {},
   "outputs": [
    {
     "data": {
      "text/plain": [
       "['False',\n",
       " 'None',\n",
       " 'True',\n",
       " 'and',\n",
       " 'as',\n",
       " 'assert',\n",
       " 'async',\n",
       " 'await',\n",
       " 'break',\n",
       " 'class',\n",
       " 'continue',\n",
       " 'def',\n",
       " 'del',\n",
       " 'elif',\n",
       " 'else',\n",
       " 'except',\n",
       " 'finally',\n",
       " 'for',\n",
       " 'from',\n",
       " 'global',\n",
       " 'if',\n",
       " 'import',\n",
       " 'in',\n",
       " 'is',\n",
       " 'lambda',\n",
       " 'nonlocal',\n",
       " 'not',\n",
       " 'or',\n",
       " 'pass',\n",
       " 'raise',\n",
       " 'return',\n",
       " 'try',\n",
       " 'while',\n",
       " 'with',\n",
       " 'yield']"
      ]
     },
     "execution_count": 14,
     "metadata": {},
     "output_type": "execute_result"
    }
   ],
   "source": [
    "import keyword\n",
    "keyword.kwlist"
   ]
  },
  {
   "cell_type": "markdown",
   "id": "cea4bf8d-58a5-4ec7-8374-0f7bc487287f",
   "metadata": {},
   "source": [
    "### Declarando múltiples variables en una sola línea\n",
    "\n",
    "Se hace del siguiente modo:"
   ]
  },
  {
   "cell_type": "code",
   "execution_count": 15,
   "id": "ff120601-2d58-4ea9-bada-d75a8ae3a180",
   "metadata": {},
   "outputs": [],
   "source": [
    "anual, nombre,temperatura = 22, \"Maria\",25.6"
   ]
  },
  {
   "cell_type": "code",
   "execution_count": 16,
   "id": "285dccd0-b7f8-4086-8d8c-afe2a00f34f9",
   "metadata": {},
   "outputs": [
    {
     "name": "stdout",
     "output_type": "stream",
     "text": [
      "25.6\n"
     ]
    }
   ],
   "source": [
    "print(temperatura)"
   ]
  },
  {
   "cell_type": "markdown",
   "id": "8cbc749c-4d0c-4f87-a793-c684daea7067",
   "metadata": {},
   "source": [
    "### Operando con una variable numérica\n",
    "\n",
    "Una vez hemos guardado un valor numérico en una variable, podemos operar con él:"
   ]
  },
  {
   "cell_type": "code",
   "execution_count": 17,
   "id": "3c4607da-a088-445f-aa6c-da103f1c3bfb",
   "metadata": {},
   "outputs": [
    {
     "data": {
      "text/plain": [
       "4"
      ]
     },
     "execution_count": 17,
     "metadata": {},
     "output_type": "execute_result"
    }
   ],
   "source": [
    "x = 3\n",
    "x + 1"
   ]
  },
  {
   "cell_type": "markdown",
   "id": "8773c4b3-95cd-4821-8707-6e21f5c8e796",
   "metadata": {},
   "source": [
    "Incluso podemos guardar ese valor en una nueva variable"
   ]
  },
  {
   "cell_type": "code",
   "execution_count": 18,
   "id": "cb992087-5796-43a1-b479-dbf67e51e31f",
   "metadata": {},
   "outputs": [
    {
     "data": {
      "text/plain": [
       "4"
      ]
     },
     "execution_count": 18,
     "metadata": {},
     "output_type": "execute_result"
    }
   ],
   "source": [
    "y = x + 1\n",
    "y"
   ]
  },
  {
   "cell_type": "code",
   "execution_count": 19,
   "id": "96e15f70-d3a7-43fa-9304-7228e6d7930e",
   "metadata": {},
   "outputs": [
    {
     "data": {
      "text/plain": [
       "6"
      ]
     },
     "execution_count": 19,
     "metadata": {},
     "output_type": "execute_result"
    }
   ],
   "source": [
    "x *= 2\n",
    "x"
   ]
  },
  {
   "cell_type": "markdown",
   "id": "2e538aec-4898-47d9-84b2-63a4c8ff6eef",
   "metadata": {},
   "source": [
    "**Observación.** Al igual que existe `+=`, también tenemos `-=`, `*=`, `/=`, `//=`, `%=` y `**=`, que son el equivalente a `+=` con el resto de operaciones aritméticas existentes en `Python` y que trataremos en el siguiente tema.\n",
    "\n",
    "**Observación.** Todos los tipos de variable en `Python` los iremos viendo en profundidad a lo largo de este curso."
   ]
  },
  {
   "cell_type": "markdown",
   "id": "a6cee21e-f8c4-4388-a750-795299b58ea0",
   "metadata": {},
   "source": [
    "## Comentarios\n",
    "\n",
    "Dado un bloque de código, a veces puede ser útil explicar qué hace o en qué consiste, o bien hacer que una línea no se ejecute por algún motivo, pero que siga presente en dicho código. Aquí entran en juego los comentarios, que son parte del código, pero no se ejecutan.\n",
    "\n",
    "Si queremos hacer un comentario en una línea, utilizamos `#`"
   ]
  },
  {
   "cell_type": "markdown",
   "id": "d13a0f9e-63fc-4433-924d-cf613ccc03c2",
   "metadata": {},
   "source": [
    "Datos para la suma:\n",
    "- Valor de a es 10\n",
    "- Valor de b es 5\n",
    "- Cuanto vale c si es la suma de los dos"
   ]
  },
  {
   "cell_type": "code",
   "execution_count": 20,
   "id": "0892cc90-9454-48aa-9ea0-2a6745424793",
   "metadata": {},
   "outputs": [
    {
     "name": "stdout",
     "output_type": "stream",
     "text": [
      "15\n"
     ]
    }
   ],
   "source": [
    "# Suma de numero\n",
    "a = 10\n",
    "b = 5\n",
    "c = a + b\n",
    "print(c)"
   ]
  },
  {
   "cell_type": "code",
   "execution_count": 21,
   "id": "355742dc-26aa-440d-85bb-9b9167add9a2",
   "metadata": {},
   "outputs": [
    {
     "data": {
      "text/plain": [
       "1"
      ]
     },
     "execution_count": 21,
     "metadata": {},
     "output_type": "execute_result"
    }
   ],
   "source": [
    "# Vamos a definir la variable x y asignarle el valor 1\n",
    "x = 1 # Aquí está nuestra variable x\n",
    "# Esto es otro comentario\n",
    "# Y ninguno de los comentarios se ejecutará\n",
    "x"
   ]
  },
  {
   "cell_type": "markdown",
   "id": "5f87dc87-ad7e-49f0-b7b4-306f728fb4eb",
   "metadata": {},
   "source": [
    "**Observación.** Los comentarios, como ya se ha dicho, pueden ser muy útiles a la hora de entender nuestro código. Sin embargo, no conviene abusar de estos, como se ha hecho en el ejemplo anterior, pues el código pasa de ser claro a ser excesivamente largo y confuso."
   ]
  },
  {
   "cell_type": "markdown",
   "id": "c771845c-4745-48f4-a48f-c5928ee2b92a",
   "metadata": {},
   "source": [
    "## La función `import`"
   ]
  },
  {
   "cell_type": "markdown",
   "id": "f36f0e1b-1aee-44b3-852e-33da53fe1fcb",
   "metadata": {},
   "source": [
    "Antes de explicar en qué consiste la función `import`, hay que definir los siguientes conceptos:\n",
    "\n",
    "- **Algoritmo.** Conjunto ordenado de operaciones sistemáticas que permite hacer un cálculo y hallar la solución de un problema.\n",
    "- **Función.** Bloque de código con un nombre asociado, que recibe cero o más argumentos como entrada, sigue una secuencia de sentencias, la cuales ejecuta una operación deseada y devuelve un valor y/o realiza una tarea.\n",
    "- **Script.** Archivo diseñado para ser ejecutado. Puede contener funciones, programas, etc.\n",
    "- **Módulo.** Script que contiene colecciones de funciones, definiciones y declaraciones de `Python`."
   ]
  },
  {
   "cell_type": "markdown",
   "id": "0424310e-7b89-41bd-9251-e275481c6247",
   "metadata": {},
   "source": [
    "Las funciones de un módulo pueden ser importadas. Es aquí donde entra en juego la función `import`.\n",
    "\n",
    "Por ejemplo, vamos a importar el módulo `math`, del cual hablaremos en futuras secciones de este curso.\n",
    "\n",
    "De momento, lo que nos interesa saber acerca de este módulo es que es de utilidad a la hora de usar funciones matemáticas (definidas según los estándares de C)."
   ]
  },
  {
   "cell_type": "code",
   "execution_count": 22,
   "id": "c1680fac-4711-4a76-82fe-656ac196b861",
   "metadata": {},
   "outputs": [],
   "source": [
    "import math"
   ]
  },
  {
   "cell_type": "code",
   "execution_count": 23,
   "id": "5911a42b-0187-46cb-8292-a67d4105f82d",
   "metadata": {},
   "outputs": [
    {
     "data": {
      "text/plain": [
       "3.141592653589793"
      ]
     },
     "execution_count": 23,
     "metadata": {},
     "output_type": "execute_result"
    }
   ],
   "source": [
    "math.pi"
   ]
  },
  {
   "cell_type": "markdown",
   "id": "edae4fa8-b0dc-49e2-aca3-a4c8039b4727",
   "metadata": {},
   "source": [
    "Con la línea de código anterior, hemos cargado el módulo de `math`, permitiéndonos así poder trabajar con las funciones que contiene, haciendo uso de la sintaxis `math.funcion()` o `math.variable`.\n",
    "\n",
    "A la hora de usar funciones de un módulo, puede resultar tedioso tener que poner siempre el nombre del módulo previo a la función. Es por ello que la función `import` nos permite hacer lo siguiente:"
   ]
  },
  {
   "cell_type": "code",
   "execution_count": 24,
   "id": "93221204-3324-4936-8881-f41ccb458189",
   "metadata": {},
   "outputs": [],
   "source": [
    "import math as mt"
   ]
  },
  {
   "cell_type": "code",
   "execution_count": 25,
   "id": "d967904a-15e8-4698-9855-73657738ce95",
   "metadata": {},
   "outputs": [
    {
     "data": {
      "text/plain": [
       "3.141592653589793"
      ]
     },
     "execution_count": 25,
     "metadata": {},
     "output_type": "execute_result"
    }
   ],
   "source": [
    "mt.pi"
   ]
  },
  {
   "cell_type": "markdown",
   "id": "fa47b29b-509d-4aed-9e64-96e9173fe27f",
   "metadata": {},
   "source": [
    "Con la línea de código anterior, no solo hemos cargado el módulo de `math`, sino que a la hora de usar alguna de sus funiones, ahora podremos usar la sintaxis `mt.funcion()` o `mt.variable`. Es decir, en vez de tener que poner el nombre del módulo, podemos cambiarle el nombre o, como en este caso, usar la abreviatura `mt` (o la que quereamos utilizar), cosa que resulta de mucha utilidad para módulos con nombres muy largos.\n",
    "\n",
    "Si por el contrario no queremos cargar todo el módulo, sino que simplemente queremos cargar una función o una variable, lo podemos hacer de la siguiente forma:"
   ]
  },
  {
   "cell_type": "code",
   "execution_count": 26,
   "id": "2d1142cf-c612-48dd-b9a9-7b20a9f5d47b",
   "metadata": {},
   "outputs": [],
   "source": [
    "from math import pi"
   ]
  },
  {
   "cell_type": "code",
   "execution_count": 27,
   "id": "57260762-29c1-4260-b84e-232c07a5df88",
   "metadata": {},
   "outputs": [
    {
     "data": {
      "text/plain": [
       "3.141592653589793"
      ]
     },
     "execution_count": 27,
     "metadata": {},
     "output_type": "execute_result"
    }
   ],
   "source": [
    "pi"
   ]
  },
  {
   "cell_type": "markdown",
   "id": "739bade3-4054-461d-ac98-b7404349e2aa",
   "metadata": {},
   "source": [
    "La línea de código anterior nos permite acceder a la variable `pi` del módulo `math` directamente haciendo uso de la sintaxis `pi`, en vez de tener que usar la sintaxis `math.pi`.\n",
    "\n",
    "Al igual que podíamos modificar el nombre del módulo a la hora de llamarlo, también lo podemos hacer con las funciones y las variables."
   ]
  },
  {
   "cell_type": "code",
   "execution_count": 28,
   "id": "a4b57deb-0699-4baa-8395-c0f25a5e6925",
   "metadata": {},
   "outputs": [],
   "source": [
    "from math import pi as n_pi"
   ]
  },
  {
   "cell_type": "code",
   "execution_count": 29,
   "id": "adb61ec2-37e8-40f9-a3d2-4993c7f4a818",
   "metadata": {},
   "outputs": [
    {
     "data": {
      "text/plain": [
       "3.141592653589793"
      ]
     },
     "execution_count": 29,
     "metadata": {},
     "output_type": "execute_result"
    }
   ],
   "source": [
    "n_pi"
   ]
  },
  {
   "cell_type": "markdown",
   "id": "36cae375-70db-425d-a511-4650b1a38048",
   "metadata": {},
   "source": [
    "Si por el contrario quisiésemos cargar más de una función o variable, pero sin necesidad de cargar todo el módulo, lo podríamos hacer del siguiente modo:"
   ]
  },
  {
   "cell_type": "code",
   "execution_count": 30,
   "id": "dd8b3a6c-26ca-4572-8c20-ba52ba3037a4",
   "metadata": {},
   "outputs": [],
   "source": [
    "from math import pi, log, exp, sin"
   ]
  },
  {
   "cell_type": "code",
   "execution_count": 31,
   "id": "5723ee3b-ab37-46a5-b6e0-f5fa65d30452",
   "metadata": {},
   "outputs": [
    {
     "data": {
      "text/plain": [
       "0.8414709848078965"
      ]
     },
     "execution_count": 31,
     "metadata": {},
     "output_type": "execute_result"
    }
   ],
   "source": [
    "sin(1)"
   ]
  },
  {
   "cell_type": "code",
   "execution_count": 32,
   "id": "28980e5b-b0ae-44f8-afc9-751f8c5bbdc2",
   "metadata": {},
   "outputs": [
    {
     "data": {
      "text/plain": [
       "1.6094379124341003"
      ]
     },
     "execution_count": 32,
     "metadata": {},
     "output_type": "execute_result"
    }
   ],
   "source": [
    "log(5)"
   ]
  },
  {
   "cell_type": "markdown",
   "id": "41d05461-f5ae-489a-8a74-787ce3a17f00",
   "metadata": {},
   "source": [
    "## Directorio de trabajo"
   ]
  },
  {
   "cell_type": "code",
   "execution_count": 33,
   "id": "b1fdf1e8-e402-44ec-9a83-aa02076f0784",
   "metadata": {},
   "outputs": [],
   "source": [
    "import os"
   ]
  },
  {
   "cell_type": "code",
   "execution_count": 83,
   "id": "6ce5570a-f01a-4179-bf91-b6149fa53dc4",
   "metadata": {},
   "outputs": [
    {
     "data": {
      "text/plain": [
       "'E:\\\\Python\\\\02_SIG_Python'"
      ]
     },
     "execution_count": 83,
     "metadata": {},
     "output_type": "execute_result"
    }
   ],
   "source": [
    "os.getcwd()"
   ]
  },
  {
   "cell_type": "code",
   "execution_count": 81,
   "id": "1d8ca063-19e6-45bd-833f-107c87a59b0a",
   "metadata": {},
   "outputs": [],
   "source": [
    "ruta = r\"E:\\Python\\02_SIG_Python\""
   ]
  },
  {
   "cell_type": "code",
   "execution_count": 82,
   "id": "8fee07b2-381c-476d-9ba5-b344cedf6ec7",
   "metadata": {},
   "outputs": [],
   "source": [
    "os.chdir(ruta)"
   ]
  },
  {
   "cell_type": "code",
   "execution_count": 84,
   "id": "d3b51b6a-a956-4077-b0aa-ce96e0114ee6",
   "metadata": {},
   "outputs": [
    {
     "data": {
      "text/plain": [
       "'E:\\\\Python\\\\02_SIG_Python'"
      ]
     },
     "execution_count": 84,
     "metadata": {},
     "output_type": "execute_result"
    }
   ],
   "source": [
    "os.getcwd()"
   ]
  },
  {
   "cell_type": "code",
   "execution_count": 85,
   "id": "e1802502-5b03-41f8-aff0-102cd3a3524e",
   "metadata": {},
   "outputs": [
    {
     "data": {
      "text/plain": [
       "'E:\\\\Python\\\\02_SIG_Python\\\\Carpeta_Nueva'"
      ]
     },
     "execution_count": 85,
     "metadata": {},
     "output_type": "execute_result"
    }
   ],
   "source": [
    "# Concatenar string o texto \n",
    "out_dir = os.path.normpath((os.getcwd() + '/Carpeta_Nueva' ))\n",
    "out_dir"
   ]
  },
  {
   "cell_type": "code",
   "execution_count": 86,
   "id": "ea8cec22-ae19-4f2c-957f-8de846a4eef8",
   "metadata": {},
   "outputs": [
    {
     "data": {
      "text/plain": [
       "str"
      ]
     },
     "execution_count": 86,
     "metadata": {},
     "output_type": "execute_result"
    }
   ],
   "source": [
    "type(out_dir)"
   ]
  },
  {
   "cell_type": "code",
   "execution_count": 87,
   "id": "3f45d0c3-ce17-46c8-918f-c2008afbb8ee",
   "metadata": {},
   "outputs": [],
   "source": [
    "# Crear la carpeta en el directorio\n",
    "os.makedirs(out_dir)"
   ]
  },
  {
   "cell_type": "markdown",
   "id": "a4babc39-613d-4abc-8f0c-7d75c2db611b",
   "metadata": {},
   "source": [
    "## Buscar un archivo"
   ]
  },
  {
   "cell_type": "code",
   "execution_count": 88,
   "id": "3472fe04-fda8-4a27-a854-34e78184160e",
   "metadata": {},
   "outputs": [],
   "source": [
    "import glob"
   ]
  },
  {
   "cell_type": "code",
   "execution_count": 90,
   "id": "f446c312-a51c-46a2-bfe5-a4e1d8dee382",
   "metadata": {},
   "outputs": [
    {
     "data": {
      "text/plain": [
       "['Datos_Espacial/Formato/SHP\\\\Distrito_Ucayali.shp']"
      ]
     },
     "execution_count": 90,
     "metadata": {},
     "output_type": "execute_result"
    }
   ],
   "source": [
    "lista = glob.glob(\"Datos_Espacial/Formato/SHP/*shp\")\n",
    "lista"
   ]
  }
 ],
 "metadata": {
  "kernelspec": {
   "display_name": "Python 3 (ipykernel)",
   "language": "python",
   "name": "python3"
  },
  "language_info": {
   "codemirror_mode": {
    "name": "ipython",
    "version": 3
   },
   "file_extension": ".py",
   "mimetype": "text/x-python",
   "name": "python",
   "nbconvert_exporter": "python",
   "pygments_lexer": "ipython3",
   "version": "3.11.5"
  }
 },
 "nbformat": 4,
 "nbformat_minor": 5
}
